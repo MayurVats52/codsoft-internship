{
 "cells": [
  {
   "cell_type": "code",
   "execution_count": null,
   "id": "7fa67670-eba8-4dde-83d1-b88effbcf192",
   "metadata": {},
   "outputs": [
    {
     "name": "stdout",
     "output_type": "stream",
     "text": [
      "\n",
      "==== TO-DO MENU ====\n",
      "Add Task\n",
      "View Tasks\n",
      "Mark Task as Done\n",
      "Remove Task\n",
      "Exit\n"
     ]
    },
    {
     "name": "stdin",
     "output_type": "stream",
     "text": [
      "Choose an option:  1\n",
      "Enter task:  do homework\n",
      "Priority (High/Medium/Low):  high\n",
      "Deadline (YYYY-MM-DD, optional):  2006/06/02\n"
     ]
    },
    {
     "name": "stdout",
     "output_type": "stream",
     "text": [
      "⚠ Invalid date format. Skipping deadline.\n",
      "Task added!\n",
      "\n",
      "==== TO-DO MENU ====\n",
      "Add Task\n",
      "View Tasks\n",
      "Mark Task as Done\n",
      "Remove Task\n",
      "Exit\n"
     ]
    }
   ],
   "source": [
    "from datetime import datetime\n",
    "\n",
    "tasks = []\n",
    "\n",
    "def show_tasks():\n",
    "    if not tasks:\n",
    "        print(\"\\n No tasks yet! Time to relax \")\n",
    "    else:\n",
    "        print(\"\\n📋 Your To-Do List:\")\n",
    "        print(\"-\" * 60)\n",
    "        for i, task in enumerate(tasks, 1):\n",
    "            status = \" Done\" if task[\"done\"] else \"Pending\"\n",
    "            deadline = f\"🗓 {task['deadline']}\" if task[\"deadline\"] else \"\"\n",
    "            print(f\"{i}. {task['title']} | Priority: {task['priority']} | {status} {deadline}\")\n",
    "        print(\"-\" * 60)\n",
    "\n",
    "def add_task():\n",
    "    title = input(\"Enter task: \").strip()\n",
    "    priority = input(\"Priority (High/Medium/Low): \").capitalize() or \"Low\"\n",
    "    deadline = input(\"Deadline (YYYY-MM-DD, optional): \").strip()\n",
    "    # validate deadline\n",
    "    if deadline:\n",
    "        try:\n",
    "            datetime.strptime(deadline, \"%Y-%m-%d\")\n",
    "        except ValueError:\n",
    "            print(\"⚠ Invalid date format. Skipping deadline.\")\n",
    "            deadline = \"\"\n",
    "    tasks.append({\"title\": title, \"priority\": priority, \"deadline\": deadline, \"done\": False})\n",
    "    print(\"Task added!\")\n",
    "\n",
    "def mark_done():\n",
    "    show_tasks()\n",
    "    if not tasks: return\n",
    "    try:\n",
    "        num = int(input(\"Enter task number to mark as done: \"))\n",
    "        tasks[num-1][\"done\"] = True\n",
    "        print(\"Task marked completed!\")\n",
    "    except (ValueError, IndexError):\n",
    "        print(\"Invalid task number.\")\n",
    "\n",
    "def remove_task():\n",
    "    show_tasks()\n",
    "    if not tasks: return\n",
    "    try:\n",
    "        num = int(input(\"Enter task number to remove: \"))\n",
    "        removed = tasks.pop(num-1)\n",
    "        print(f\"🗑 Removed: {removed['title']}\")\n",
    "    except (ValueError, IndexError):\n",
    "        print(\"⚠ Invalid task number.\")\n",
    "\n",
    "# Main loop\n",
    "while True:\n",
    "    print(\"\\n==== TO-DO MENU ====\")\n",
    "    print(\"Add Task\")\n",
    "    print(\"View Tasks\")\n",
    "    print(\"Mark Task as Done\")\n",
    "    print(\"Remove Task\")\n",
    "    print(\"Exit\")\n",
    "    choice = input(\"Choose an option: \")\n",
    "\n",
    "    if choice == \"1\":\n",
    "        add_task()\n",
    "    elif choice == \"2\":\n",
    "        show_tasks()\n",
    "    elif choice == \"3\":\n",
    "        mark_done()\n",
    "    elif choice == \"4\":\n",
    "        remove_task()\n",
    "    elif choice == \"5\":\n",
    "        print(\"Exited!\")\n",
    "        break\n",
    "    else:\n",
    "        print(\"Invalid choice, try again.\")\n"
   ]
  },
  {
   "cell_type": "code",
   "execution_count": null,
   "id": "09d923d0-7f8f-4acf-af84-c11880e957aa",
   "metadata": {},
   "outputs": [],
   "source": []
  }
 ],
 "metadata": {
  "kernelspec": {
   "display_name": "Python 3 (ipykernel)",
   "language": "python",
   "name": "python3"
  },
  "language_info": {
   "codemirror_mode": {
    "name": "ipython",
    "version": 3
   },
   "file_extension": ".py",
   "mimetype": "text/x-python",
   "name": "python",
   "nbconvert_exporter": "python",
   "pygments_lexer": "ipython3",
   "version": "3.13.5"
  }
 },
 "nbformat": 4,
 "nbformat_minor": 5
}
