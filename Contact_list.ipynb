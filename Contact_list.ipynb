{
 "cells": [
  {
   "cell_type": "code",
   "execution_count": null,
   "id": "fb3eb55b-c298-4d79-9a7d-3d39cf913290",
   "metadata": {},
   "outputs": [
    {
     "name": "stdout",
     "output_type": "stream",
     "text": [
      "\n",
      "--- Contact Book ---\n",
      "1. Add Contact\n",
      "2. View Contacts\n",
      "3. Search Contact\n",
      "4. Update Contact\n",
      "5. Delete Contact\n",
      "6. Exit\n"
     ]
    },
    {
     "name": "stdin",
     "output_type": "stream",
     "text": [
      "Choose an option:  1\n",
      "Enter name:  Mayur\n",
      "Enter phone number:  8076510717\n",
      "Enter email:  mayurvatss52@gmail.com\n",
      "Enter address:  hi\n"
     ]
    },
    {
     "name": "stdout",
     "output_type": "stream",
     "text": [
      "Contact added successfully.\n",
      "\n",
      "--- Contact Book ---\n",
      "1. Add Contact\n",
      "2. View Contacts\n",
      "3. Search Contact\n",
      "4. Update Contact\n",
      "5. Delete Contact\n",
      "6. Exit\n"
     ]
    },
    {
     "name": "stdin",
     "output_type": "stream",
     "text": [
      "Choose an option:  2\n"
     ]
    },
    {
     "name": "stdout",
     "output_type": "stream",
     "text": [
      "1. Mayur - 8076510717\n",
      "\n",
      "--- Contact Book ---\n",
      "1. Add Contact\n",
      "2. View Contacts\n",
      "3. Search Contact\n",
      "4. Update Contact\n",
      "5. Delete Contact\n",
      "6. Exit\n"
     ]
    },
    {
     "name": "stdin",
     "output_type": "stream",
     "text": [
      "Choose an option:  3\n",
      "Enter name or phone to search:  mayur\n"
     ]
    },
    {
     "name": "stdout",
     "output_type": "stream",
     "text": [
      "Name: Mayur, Phone: 8076510717, Email: mayurvatss52@gmail.com, Address: hi\n",
      "\n",
      "--- Contact Book ---\n",
      "1. Add Contact\n",
      "2. View Contacts\n",
      "3. Search Contact\n",
      "4. Update Contact\n",
      "5. Delete Contact\n",
      "6. Exit\n"
     ]
    },
    {
     "name": "stdin",
     "output_type": "stream",
     "text": [
      "Choose an option:  4\n"
     ]
    },
    {
     "name": "stdout",
     "output_type": "stream",
     "text": [
      "1. Mayur - 8076510717\n"
     ]
    },
    {
     "name": "stdin",
     "output_type": "stream",
     "text": [
      "Enter contact number to update:  8076384497\n"
     ]
    },
    {
     "name": "stdout",
     "output_type": "stream",
     "text": [
      "Invalid contact number.\n",
      "\n",
      "--- Contact Book ---\n",
      "1. Add Contact\n",
      "2. View Contacts\n",
      "3. Search Contact\n",
      "4. Update Contact\n",
      "5. Delete Contact\n",
      "6. Exit\n"
     ]
    },
    {
     "name": "stdin",
     "output_type": "stream",
     "text": [
      "Choose an option:  2\n"
     ]
    },
    {
     "name": "stdout",
     "output_type": "stream",
     "text": [
      "1. Mayur - 8076510717\n",
      "\n",
      "--- Contact Book ---\n",
      "1. Add Contact\n",
      "2. View Contacts\n",
      "3. Search Contact\n",
      "4. Update Contact\n",
      "5. Delete Contact\n",
      "6. Exit\n"
     ]
    }
   ],
   "source": [
    "contacts = []\n",
    "\n",
    "def add_contact():\n",
    "    name = input(\"Enter name: \")\n",
    "    phone = input(\"Enter phone number: \")\n",
    "    email = input(\"Enter email: \")\n",
    "    address = input(\"Enter address: \")\n",
    "    contacts.append({\"name\": name, \"phone\": phone, \"email\": email, \"address\": address})\n",
    "    print(\"Contact added successfully.\")\n",
    "\n",
    "def view_contacts():\n",
    "    if not contacts:\n",
    "        print(\"No contacts available.\")\n",
    "    else:\n",
    "        for i, c in enumerate(contacts, 1):\n",
    "            print(f\"{i}. {c['name']} - {c['phone']}\")\n",
    "\n",
    "def search_contact():\n",
    "    keyword = input(\"Enter name or phone to search: \").lower()\n",
    "    found = [c for c in contacts if keyword in c['name'].lower() or keyword in c['phone']]\n",
    "    if found:\n",
    "        for c in found:\n",
    "            print(f\"Name: {c['name']}, Phone: {c['phone']}, Email: {c['email']}, Address: {c['address']}\")\n",
    "    else:\n",
    "        print(\"No contact found.\")\n",
    "\n",
    "def update_contact():\n",
    "    view_contacts()\n",
    "    if not contacts:\n",
    "        return\n",
    "    try:\n",
    "        idx = int(input(\"Enter contact number to update: \")) - 1\n",
    "        if 0 <= idx < len(contacts):\n",
    "            contacts[idx]['name'] = input(\"Enter new name: \") or contacts[idx]['name']\n",
    "            contacts[idx]['phone'] = input(\"Enter new phone: \") or contacts[idx]['phone']\n",
    "            contacts[idx]['email'] = input(\"Enter new email: \") or contacts[idx]['email']\n",
    "            contacts[idx]['address'] = input(\"Enter new address: \") or contacts[idx]['address']\n",
    "            print(\"Contact updated successfully.\")\n",
    "        else:\n",
    "            print(\"Invalid contact number.\")\n",
    "    except ValueError:\n",
    "        print(\"Invalid input.\")\n",
    "\n",
    "def delete_contact():\n",
    "    view_contacts()\n",
    "    if not contacts:\n",
    "        return\n",
    "    try:\n",
    "        idx = int(input(\"Enter contact number to delete: \")) - 1\n",
    "        if 0 <= idx < len(contacts):\n",
    "            removed = contacts.pop(idx)\n",
    "            print(f\"Deleted contact: {removed['name']}\")\n",
    "        else:\n",
    "            print(\"Invalid contact number.\")\n",
    "    except ValueError:\n",
    "        print(\"Invalid input.\")\n",
    "\n",
    "while True:\n",
    "    print(\"\\n--- Contact Book ---\")\n",
    "    print(\"1. Add Contact\")\n",
    "    print(\"2. View Contacts\")\n",
    "    print(\"3. Search Contact\")\n",
    "    print(\"4. Update Contact\")\n",
    "    print(\"5. Delete Contact\")\n",
    "    print(\"6. Exit\")\n",
    "    choice = input(\"Choose an option: \")\n",
    "\n",
    "    if choice == \"1\":\n",
    "        add_contact()\n",
    "    elif choice == \"2\":\n",
    "        view_contacts()\n",
    "    elif choice == \"3\":\n",
    "        search_contact()\n",
    "    elif choice == \"4\":\n",
    "        update_contact()\n",
    "    elif choice == \"5\":\n",
    "        delete_contact()\n",
    "    elif choice == \"6\":\n",
    "        print(\"Goodbye!\")\n",
    "        break\n",
    "    else:\n",
    "        print(\"Invalid choice. Try again.\")\n"
   ]
  },
  {
   "cell_type": "code",
   "execution_count": null,
   "id": "a7640341-fd15-429a-b816-8440cabda588",
   "metadata": {},
   "outputs": [],
   "source": []
  }
 ],
 "metadata": {
  "kernelspec": {
   "display_name": "Python 3 (ipykernel)",
   "language": "python",
   "name": "python3"
  },
  "language_info": {
   "codemirror_mode": {
    "name": "ipython",
    "version": 3
   },
   "file_extension": ".py",
   "mimetype": "text/x-python",
   "name": "python",
   "nbconvert_exporter": "python",
   "pygments_lexer": "ipython3",
   "version": "3.13.5"
  }
 },
 "nbformat": 4,
 "nbformat_minor": 5
}
